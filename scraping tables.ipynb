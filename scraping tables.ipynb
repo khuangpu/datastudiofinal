{
 "cells": [
  {
   "cell_type": "code",
   "execution_count": 1,
   "metadata": {},
   "outputs": [
    {
     "name": "stdout",
     "output_type": "stream",
     "text": [
      "Collecting tabula-py\n",
      "\u001b[?25l  Downloading https://files.pythonhosted.org/packages/cf/29/d6cb0d77ef46d84d35cffa09cf42c73b373aea664d28604eab6818f8a47c/tabula_py-2.2.0-py3-none-any.whl (11.7MB)\n",
      "\u001b[K    100% |████████████████████████████████| 11.7MB 291kB/s ta 0:00:011  19% |██████▏                         | 2.3MB 3.3MB/s eta 0:00:03    32% |██████████▍                     | 3.8MB 4.2MB/s eta 0:00:02    63% |████████████████████▌           | 7.5MB 5.0MB/s eta 0:00:01\n",
      "\u001b[?25hCollecting distro (from tabula-py)\n",
      "  Downloading https://files.pythonhosted.org/packages/25/b7/b3c4270a11414cb22c6352ebc7a83aaa3712043be29daa05018fd5a5c956/distro-1.5.0-py2.py3-none-any.whl\n",
      "Requirement already satisfied: pandas>=0.25.3 in /Users/kHuangpu/.pyenv/versions/3.7.1/lib/python3.7/site-packages (from tabula-py) (1.1.4)\n",
      "Requirement already satisfied: numpy in /Users/kHuangpu/.pyenv/versions/3.7.1/lib/python3.7/site-packages (from tabula-py) (1.19.4)\n",
      "Requirement already satisfied: pytz>=2017.2 in /Users/kHuangpu/.pyenv/versions/3.7.1/lib/python3.7/site-packages (from pandas>=0.25.3->tabula-py) (2020.4)\n",
      "Requirement already satisfied: python-dateutil>=2.7.3 in /Users/kHuangpu/.pyenv/versions/3.7.1/lib/python3.7/site-packages (from pandas>=0.25.3->tabula-py) (2.8.1)\n",
      "Requirement already satisfied: six>=1.5 in /Users/kHuangpu/.pyenv/versions/3.7.1/lib/python3.7/site-packages (from python-dateutil>=2.7.3->pandas>=0.25.3->tabula-py) (1.15.0)\n",
      "Installing collected packages: distro, tabula-py\n",
      "Successfully installed distro-1.5.0 tabula-py-2.2.0\n",
      "\u001b[33mYou are using pip version 10.0.1, however version 21.0.1 is available.\n",
      "You should consider upgrading via the 'pip install --upgrade pip' command.\u001b[0m\n",
      "Note: you may need to restart the kernel to use updated packages.\n"
     ]
    }
   ],
   "source": [
    "pip install tabula-py"
   ]
  },
  {
   "cell_type": "code",
   "execution_count": 2,
   "metadata": {},
   "outputs": [
    {
     "name": "stderr",
     "output_type": "stream",
     "text": [
      "/Users/kHuangpu/.pyenv/versions/3.7.1/lib/python3.7/site-packages/pandas/compat/__init__.py:120: UserWarning: Could not import the lzma module. Your installed Python is incomplete. Attempting to use lzma compression will result in a RuntimeError.\n",
      "  warnings.warn(msg)\n"
     ]
    }
   ],
   "source": [
    "import tabula"
   ]
  },
  {
   "cell_type": "code",
   "execution_count": 4,
   "metadata": {},
   "outputs": [],
   "source": [
    "import pandas as pd"
   ]
  },
  {
   "cell_type": "code",
   "execution_count": 7,
   "metadata": {},
   "outputs": [
    {
     "data": {
      "text/html": [
       "<div>\n",
       "<style scoped>\n",
       "    .dataframe tbody tr th:only-of-type {\n",
       "        vertical-align: middle;\n",
       "    }\n",
       "\n",
       "    .dataframe tbody tr th {\n",
       "        vertical-align: top;\n",
       "    }\n",
       "\n",
       "    .dataframe thead th {\n",
       "        text-align: right;\n",
       "    }\n",
       "</style>\n",
       "<table border=\"1\" class=\"dataframe\">\n",
       "  <thead>\n",
       "    <tr style=\"text-align: right;\">\n",
       "      <th></th>\n",
       "      <th>Unnamed: 0</th>\n",
       "      <th>2014</th>\n",
       "      <th>2015</th>\n",
       "      <th>2016</th>\n",
       "      <th>2017</th>\n",
       "      <th>2018</th>\n",
       "    </tr>\n",
       "  </thead>\n",
       "  <tbody>\n",
       "    <tr>\n",
       "      <th>0</th>\n",
       "      <td>NaN</td>\n",
       "      <td>Number % of Total</td>\n",
       "      <td>Number % of Total</td>\n",
       "      <td>Number % of Total</td>\n",
       "      <td>Number % of Total</td>\n",
       "      <td>Number % of Total</td>\n",
       "    </tr>\n",
       "    <tr>\n",
       "      <th>1</th>\n",
       "      <td>Force (F)</td>\n",
       "      <td>4,200 30.7%</td>\n",
       "      <td>3,701 29.0%</td>\n",
       "      <td>3,516 26.1%</td>\n",
       "      <td>3,421 23.3%</td>\n",
       "      <td>3,795 22.9%</td>\n",
       "    </tr>\n",
       "    <tr>\n",
       "      <th>2</th>\n",
       "      <td>Abuse of Authority (A)</td>\n",
       "      <td>6,650 48.6%</td>\n",
       "      <td>6,669 52.2%</td>\n",
       "      <td>7,540 56.1%</td>\n",
       "      <td>8,751 59.7%</td>\n",
       "      <td>10,531 63.5%</td>\n",
       "    </tr>\n",
       "    <tr>\n",
       "      <th>3</th>\n",
       "      <td>Discourtesy (D)</td>\n",
       "      <td>2,341 17.1%</td>\n",
       "      <td>1,992 15.6%</td>\n",
       "      <td>1,972 14.7%</td>\n",
       "      <td>2,033 13.9%</td>\n",
       "      <td>1,844 11.1%</td>\n",
       "    </tr>\n",
       "    <tr>\n",
       "      <th>4</th>\n",
       "      <td>Offensive Language (O)</td>\n",
       "      <td>481 3.5%</td>\n",
       "      <td>418 3.3%</td>\n",
       "      <td>418 3.1%</td>\n",
       "      <td>462 3.1%</td>\n",
       "      <td>416 2.5%</td>\n",
       "    </tr>\n",
       "    <tr>\n",
       "      <th>5</th>\n",
       "      <td>Total Allegations</td>\n",
       "      <td>13672 100.0%</td>\n",
       "      <td>12780 100.0%</td>\n",
       "      <td>13446 100.0%</td>\n",
       "      <td>14667 100.0%</td>\n",
       "      <td>16586 100.0%</td>\n",
       "    </tr>\n",
       "    <tr>\n",
       "      <th>6</th>\n",
       "      <td>Total Complaints</td>\n",
       "      <td>4,777</td>\n",
       "      <td>4,462</td>\n",
       "      <td>4,285</td>\n",
       "      <td>4,486</td>\n",
       "      <td>4,745</td>\n",
       "    </tr>\n",
       "  </tbody>\n",
       "</table>\n",
       "</div>"
      ],
      "text/plain": [
       "               Unnamed: 0               2014               2015  \\\n",
       "0                     NaN  Number % of Total  Number % of Total   \n",
       "1               Force (F)        4,200 30.7%        3,701 29.0%   \n",
       "2  Abuse of Authority (A)        6,650 48.6%        6,669 52.2%   \n",
       "3         Discourtesy (D)        2,341 17.1%        1,992 15.6%   \n",
       "4  Offensive Language (O)           481 3.5%           418 3.3%   \n",
       "5       Total Allegations       13672 100.0%       12780 100.0%   \n",
       "6        Total Complaints              4,777              4,462   \n",
       "\n",
       "                2016               2017               2018  \n",
       "0  Number % of Total  Number % of Total  Number % of Total  \n",
       "1        3,516 26.1%        3,421 23.3%        3,795 22.9%  \n",
       "2        7,540 56.1%        8,751 59.7%       10,531 63.5%  \n",
       "3        1,972 14.7%        2,033 13.9%        1,844 11.1%  \n",
       "4           418 3.1%           462 3.1%           416 2.5%  \n",
       "5       13446 100.0%       14667 100.0%       16586 100.0%  \n",
       "6              4,285              4,486              4,745  "
      ]
     },
     "execution_count": 7,
     "metadata": {},
     "output_type": "execute_result"
    }
   ],
   "source": [
    "pd.read_csv('Total_Allegations_and_Total_Complaints_Received _2014_2018 .csv')"
   ]
  },
  {
   "cell_type": "code",
   "execution_count": null,
   "metadata": {},
   "outputs": [],
   "source": []
  }
 ],
 "metadata": {
  "kernelspec": {
   "display_name": "Python 3",
   "language": "python",
   "name": "python3"
  },
  "language_info": {
   "codemirror_mode": {
    "name": "ipython",
    "version": 3
   },
   "file_extension": ".py",
   "mimetype": "text/x-python",
   "name": "python",
   "nbconvert_exporter": "python",
   "pygments_lexer": "ipython3",
   "version": "3.7.1"
  }
 },
 "nbformat": 4,
 "nbformat_minor": 4
}
